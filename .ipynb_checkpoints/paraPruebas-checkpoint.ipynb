{
 "cells": [
  {
   "cell_type": "markdown",
   "metadata": {},
   "source": [
    "## Esta notebook es creada para elaborar pruebas con el procesamiento de la informacion de los documentos csv"
   ]
  },
  {
   "cell_type": "code",
   "execution_count": 2,
   "metadata": {},
   "outputs": [],
   "source": [
    "import os\n",
    "import pandas as pd\n",
    "from nltk.corpus import stopwords"
   ]
  },
  {
   "cell_type": "code",
   "execution_count": 16,
   "metadata": {},
   "outputs": [],
   "source": [
    "def getDocsinDir(directory):\n",
    "    docs=[]\n",
    "    for root,directories,files in os.walk(directory+'/'):\n",
    "        for f in files:\n",
    "            docs.append(f)\n",
    "    return docs\n",
    "\n",
    "def getCSVs(docs):\n",
    "    data=[]\n",
    "    for x in docs:\n",
    "        data.append(pd.read_csv('filesCSV/'+x))\n",
    "    return data"
   ]
  },
  {
   "cell_type": "code",
   "execution_count": 43,
   "metadata": {},
   "outputs": [
    {
     "data": {
      "text/html": [
       "<div>\n",
       "<style scoped>\n",
       "    .dataframe tbody tr th:only-of-type {\n",
       "        vertical-align: middle;\n",
       "    }\n",
       "\n",
       "    .dataframe tbody tr th {\n",
       "        vertical-align: top;\n",
       "    }\n",
       "\n",
       "    .dataframe thead th {\n",
       "        text-align: right;\n",
       "    }\n",
       "</style>\n",
       "<table border=\"1\" class=\"dataframe\">\n",
       "  <thead>\n",
       "    <tr style=\"text-align: right;\">\n",
       "      <th></th>\n",
       "      <th>Materia</th>\n",
       "      <th>Clave</th>\n",
       "      <th>Secc</th>\n",
       "      <th>NRC</th>\n",
       "      <th>Dias</th>\n",
       "      <th>Hora</th>\n",
       "      <th>Salon</th>\n",
       "      <th>Profesor</th>\n",
       "    </tr>\n",
       "  </thead>\n",
       "  <tbody>\n",
       "    <tr>\n",
       "      <th>count</th>\n",
       "      <td>360</td>\n",
       "      <td>360</td>\n",
       "      <td>360</td>\n",
       "      <td>360</td>\n",
       "      <td>360</td>\n",
       "      <td>360</td>\n",
       "      <td>360</td>\n",
       "      <td>360</td>\n",
       "    </tr>\n",
       "    <tr>\n",
       "      <th>unique</th>\n",
       "      <td>41</td>\n",
       "      <td>41</td>\n",
       "      <td>25</td>\n",
       "      <td>172</td>\n",
       "      <td>8</td>\n",
       "      <td>19</td>\n",
       "      <td>43</td>\n",
       "      <td>93</td>\n",
       "    </tr>\n",
       "    <tr>\n",
       "      <th>top</th>\n",
       "      <td>DHPC</td>\n",
       "      <td>FGUS 002</td>\n",
       "      <td>OO1</td>\n",
       "      <td>NRC</td>\n",
       "      <td>L</td>\n",
       "      <td>0900-1059</td>\n",
       "      <td>1CCO3/109</td>\n",
       "      <td>PA</td>\n",
       "    </tr>\n",
       "    <tr>\n",
       "      <th>freq</th>\n",
       "      <td>23</td>\n",
       "      <td>23</td>\n",
       "      <td>79</td>\n",
       "      <td>8</td>\n",
       "      <td>105</td>\n",
       "      <td>51</td>\n",
       "      <td>25</td>\n",
       "      <td>23</td>\n",
       "    </tr>\n",
       "  </tbody>\n",
       "</table>\n",
       "</div>"
      ],
      "text/plain": [
       "       Materia     Clave Secc  NRC Dias       Hora      Salon Profesor\n",
       "count      360       360  360  360  360        360        360      360\n",
       "unique      41        41   25  172    8         19         43       93\n",
       "top       DHPC  FGUS 002  OO1  NRC    L  0900-1059  1CCO3/109       PA\n",
       "freq        23        23   79    8  105         51         25       23"
      ]
     },
     "execution_count": 43,
     "metadata": {},
     "output_type": "execute_result"
    }
   ],
   "source": [
    "docs=getDocsinDir(\"filesCSV\")\n",
    "data=getCSVs(docs)\n",
    "data[1] = data[1][pd.notnull(data[1]['NRC'])]\n",
    "data[1] = data[1][pd.notnull(data[1]['Materia'])]\n",
    "data[1].describe()"
   ]
  }
 ],
 "metadata": {
  "kernelspec": {
   "display_name": "Python 3",
   "language": "python",
   "name": "python3"
  },
  "language_info": {
   "codemirror_mode": {
    "name": "ipython",
    "version": 3
   },
   "file_extension": ".py",
   "mimetype": "text/x-python",
   "name": "python",
   "nbconvert_exporter": "python",
   "pygments_lexer": "ipython3",
   "version": "3.7.2"
  }
 },
 "nbformat": 4,
 "nbformat_minor": 4
}
