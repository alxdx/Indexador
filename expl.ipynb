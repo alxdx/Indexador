{
 "cells": [
  {
   "cell_type": "code",
   "execution_count": 1,
   "metadata": {},
   "outputs": [],
   "source": [
    "import numpy as np\n",
    "import pandas as pd\n",
    "import matplotlib as plt\n",
    "import re\n",
    "from sklearn.feature_extraction.text import CountVectorizer\n",
    "from sklearn.calibration import CalibratedClassifierCV\n",
    "from sklearn.svm import LinearSVC\n",
    "import joblib\n",
    "from sklearn.model_selection import train_test_split\n",
    "from sklearn.metrics import accuracy_score, classification_report"
   ]
  },
  {
   "cell_type": "markdown",
   "metadata": {},
   "source": [
    "### tamaño de trial = 320  - tamaño de data = 13240\n",
    "### A\n",
    "**NOT** = no offenssive.\n",
    "**OFF** = OFFENSSIVE"
   ]
  },
  {
   "cell_type": "code",
   "execution_count": 2,
   "metadata": {},
   "outputs": [
    {
     "data": {
      "text/html": [
       "<div>\n",
       "<style scoped>\n",
       "    .dataframe tbody tr th:only-of-type {\n",
       "        vertical-align: middle;\n",
       "    }\n",
       "\n",
       "    .dataframe tbody tr th {\n",
       "        vertical-align: top;\n",
       "    }\n",
       "\n",
       "    .dataframe thead th {\n",
       "        text-align: right;\n",
       "    }\n",
       "</style>\n",
       "<table border=\"1\" class=\"dataframe\">\n",
       "  <thead>\n",
       "    <tr style=\"text-align: right;\">\n",
       "      <th></th>\n",
       "      <th>tweet</th>\n",
       "      <th>a</th>\n",
       "    </tr>\n",
       "  </thead>\n",
       "  <tbody>\n",
       "    <tr>\n",
       "      <th>0</th>\n",
       "      <td>@BreitbartNews OK Shannon, YOU tell the vetera...</td>\n",
       "      <td>NOT</td>\n",
       "    </tr>\n",
       "    <tr>\n",
       "      <th>1</th>\n",
       "      <td>@LeftyGlenn @jaredeker @BookUniverse @hashtagz...</td>\n",
       "      <td>NOT</td>\n",
       "    </tr>\n",
       "    <tr>\n",
       "      <th>2</th>\n",
       "      <td>Hot Mom Sucks Off Step Son In Shower 8 min htt...</td>\n",
       "      <td>OFF</td>\n",
       "    </tr>\n",
       "    <tr>\n",
       "      <th>3</th>\n",
       "      <td>bro these are some cute butt plugs I’m trying ...</td>\n",
       "      <td>OFF</td>\n",
       "    </tr>\n",
       "    <tr>\n",
       "      <th>4</th>\n",
       "      <td>Arizona Supreme Court strikes down state legis...</td>\n",
       "      <td>NOT</td>\n",
       "    </tr>\n",
       "  </tbody>\n",
       "</table>\n",
       "</div>"
      ],
      "text/plain": [
       "                                               tweet    a\n",
       "0  @BreitbartNews OK Shannon, YOU tell the vetera...  NOT\n",
       "1  @LeftyGlenn @jaredeker @BookUniverse @hashtagz...  NOT\n",
       "2  Hot Mom Sucks Off Step Son In Shower 8 min htt...  OFF\n",
       "3  bro these are some cute butt plugs I’m trying ...  OFF\n",
       "4  Arizona Supreme Court strikes down state legis...  NOT"
      ]
     },
     "execution_count": 2,
     "metadata": {},
     "output_type": "execute_result"
    }
   ],
   "source": [
    "    data=pd.read_csv('training.tsv',sep='\\t')\n",
    "\n",
    "trial=pd.read_csv('trial.txt',sep='\\t',names=['tweet','a','b','c']).iloc[:,0:2]\n",
    "trial.head()"
   ]
  },
  {
   "cell_type": "code",
   "execution_count": 3,
   "metadata": {},
   "outputs": [],
   "source": [
    "\n",
    "emoji_pattern = re.compile(\"[\"\n",
    "        u\"\\U0001F600-\\U0001F64F\"  # emoticons\n",
    "        u\"\\U0001F300-\\U0001F5FF\"  # symbols & pictographs\n",
    "        u\"\\U0001F680-\\U0001F6FF\"  # transport & map symbols\n",
    "        u\"\\U0001F1E0-\\U0001F1FF\"  # flags (iOS)\n",
    "        u\"\\U0001F1F2-\\U0001F1F4\"  # Macau flag\n",
    "        u\"\\U0001F1E6-\\U0001F1FF\"  # flags\n",
    "        u\"\\U0001F600-\\U0001F64F\"\n",
    "        u\"\\U00002702-\\U000027B0\"\n",
    "        u\"\\U000024C2-\\U0001F251\"\n",
    "        u\"\\U0001f926-\\U0001f937\"\n",
    "        u\"\\U0001F1F2\"\n",
    "        u\"\\U0001F1F4\"\n",
    "        u\"\\U0001F620\"\n",
    "        u\"\\u200d\"\n",
    "        u\"\\u2640-\\u2642\"\n",
    "        \"]+\", flags=re.UNICODE)"
   ]
  },
  {
   "cell_type": "code",
   "execution_count": 4,
   "metadata": {},
   "outputs": [],
   "source": [
    "replace_map={\n",
    "    \"NOT\": 0,\n",
    "    \"OFF\": 1,\n",
    "}"
   ]
  },
  {
   "cell_type": "code",
   "execution_count": 5,
   "metadata": {},
   "outputs": [
    {
     "data": {
      "text/html": [
       "<div>\n",
       "<style scoped>\n",
       "    .dataframe tbody tr th:only-of-type {\n",
       "        vertical-align: middle;\n",
       "    }\n",
       "\n",
       "    .dataframe tbody tr th {\n",
       "        vertical-align: top;\n",
       "    }\n",
       "\n",
       "    .dataframe thead th {\n",
       "        text-align: right;\n",
       "    }\n",
       "</style>\n",
       "<table border=\"1\" class=\"dataframe\">\n",
       "  <thead>\n",
       "    <tr style=\"text-align: right;\">\n",
       "      <th></th>\n",
       "      <th>tweet</th>\n",
       "      <th>a</th>\n",
       "    </tr>\n",
       "  </thead>\n",
       "  <tbody>\n",
       "    <tr>\n",
       "      <th>0</th>\n",
       "      <td>breitbartnews ok shannon you tell the veterans...</td>\n",
       "      <td>0</td>\n",
       "    </tr>\n",
       "    <tr>\n",
       "      <th>1</th>\n",
       "      <td>leftyglenn jaredeker bookuniverse hashtagzema ...</td>\n",
       "      <td>0</td>\n",
       "    </tr>\n",
       "    <tr>\n",
       "      <th>2</th>\n",
       "      <td>hot mom sucks off step son in shower  min</td>\n",
       "      <td>1</td>\n",
       "    </tr>\n",
       "    <tr>\n",
       "      <th>3</th>\n",
       "      <td>bro these are some cute butt plugs im trying t...</td>\n",
       "      <td>1</td>\n",
       "    </tr>\n",
       "    <tr>\n",
       "      <th>4</th>\n",
       "      <td>arizona supreme court strikes down state legis...</td>\n",
       "      <td>0</td>\n",
       "    </tr>\n",
       "  </tbody>\n",
       "</table>\n",
       "</div>"
      ],
      "text/plain": [
       "                                               tweet  a\n",
       "0  breitbartnews ok shannon you tell the veterans...  0\n",
       "1  leftyglenn jaredeker bookuniverse hashtagzema ...  0\n",
       "2         hot mom sucks off step son in shower  min   1\n",
       "3  bro these are some cute butt plugs im trying t...  1\n",
       "4  arizona supreme court strikes down state legis...  0"
      ]
     },
     "execution_count": 5,
     "metadata": {},
     "output_type": "execute_result"
    }
   ],
   "source": [
    "pr_trial = trial.applymap(lambda q: replace_map.get(q) if q in replace_map else q)\n",
    "pr_trial=pr_trial.iloc[:,0:3]\n",
    "pr_trial['tweet'] = pr_trial['tweet'].str.replace(' url ', '')\n",
    "pr_trial['tweet'] = pr_trial['tweet'].str.replace('#', '')\n",
    "pr_trial['tweet'] = pr_trial['tweet'].str.lower()\n",
    "pr_trial['tweet'] = pr_trial['tweet'].str.replace('http\\S+|www.\\S+', '', case=False)\n",
    "pr_trial['tweet'] = pr_trial['tweet'].str.replace(emoji_pattern, '')\n",
    "pr_trial['tweet'] = pr_trial['tweet'].str.replace('\\d+', '') #remueve numeros\n",
    "pr_trial['tweet'] = pr_trial['tweet'].str.replace(r'[^\\w\\s]+', '')\n",
    "pr_trial.head()"
   ]
  },
  {
   "cell_type": "code",
   "execution_count": 6,
   "metadata": {},
   "outputs": [
    {
     "data": {
      "image/png": "[encoded data removed]",
      "text/plain": [
       "<Figure size 432x288 with 1 Axes>"
      ]
     },
     "execution_count": 6,
     "metadata": {
      "image/png": {
       "height": 248,
       "width": 388
      }
     },
     "output_type": "execute_result"
    }
   ],
   "source": [
    "countData=[243,77]\n",
    "labels=[\"no ofensivo\",\"ofensivo\"]\n",
    "y_pos = np.arange(len(labels))\n",
    "plt.pyplot.bar(y_pos, countData, align='center', alpha=0.5)\n",
    "plt.pyplot.xticks(y_pos, labels)\n",
    "plt.pyplot.ylabel('Num de etiquetas')\n",
    "\n",
    "plt.pyplot.show()"
   ]
  },
  {
   "cell_type": "code",
   "execution_count": 7,
   "metadata": {},
   "outputs": [
    {
     "data": {
      "text/html": [
       "<div>\n",
       "<style scoped>\n",
       "    .dataframe tbody tr th:only-of-type {\n",
       "        vertical-align: middle;\n",
       "    }\n",
       "\n",
       "    .dataframe tbody tr th {\n",
       "        vertical-align: top;\n",
       "    }\n",
       "\n",
       "    .dataframe thead th {\n",
       "        text-align: right;\n",
       "    }\n",
       "</style>\n",
       "<table border=\"1\" class=\"dataframe\">\n",
       "  <thead>\n",
       "    <tr style=\"text-align: right;\">\n",
       "      <th></th>\n",
       "      <th>tweet</th>\n",
       "      <th>a</th>\n",
       "    </tr>\n",
       "  </thead>\n",
       "  <tbody>\n",
       "    <tr>\n",
       "      <th>0</th>\n",
       "      <td>@USER She should ask a few native Americans wh...</td>\n",
       "      <td>OFF</td>\n",
       "    </tr>\n",
       "    <tr>\n",
       "      <th>1</th>\n",
       "      <td>@USER @USER Go home you’re drunk!!! @USER #MAG...</td>\n",
       "      <td>OFF</td>\n",
       "    </tr>\n",
       "    <tr>\n",
       "      <th>2</th>\n",
       "      <td>Amazon is investigating Chinese employees who ...</td>\n",
       "      <td>NOT</td>\n",
       "    </tr>\n",
       "    <tr>\n",
       "      <th>3</th>\n",
       "      <td>@USER Someone should'veTaken\" this piece of sh...</td>\n",
       "      <td>OFF</td>\n",
       "    </tr>\n",
       "    <tr>\n",
       "      <th>4</th>\n",
       "      <td>@USER @USER Obama wanted liberals &amp;amp; illega...</td>\n",
       "      <td>NOT</td>\n",
       "    </tr>\n",
       "    <tr>\n",
       "      <th>...</th>\n",
       "      <td>...</td>\n",
       "      <td>...</td>\n",
       "    </tr>\n",
       "    <tr>\n",
       "      <th>13235</th>\n",
       "      <td>@USER Sometimes I get strong vibes from people...</td>\n",
       "      <td>OFF</td>\n",
       "    </tr>\n",
       "    <tr>\n",
       "      <th>13236</th>\n",
       "      <td>Benidorm ✅  Creamfields ✅  Maga ✅   Not too sh...</td>\n",
       "      <td>NOT</td>\n",
       "    </tr>\n",
       "    <tr>\n",
       "      <th>13237</th>\n",
       "      <td>@USER And why report this garbage.  We don't g...</td>\n",
       "      <td>OFF</td>\n",
       "    </tr>\n",
       "    <tr>\n",
       "      <th>13238</th>\n",
       "      <td>@USER Pussy</td>\n",
       "      <td>OFF</td>\n",
       "    </tr>\n",
       "    <tr>\n",
       "      <th>13239</th>\n",
       "      <td>#Spanishrevenge vs. #justice #HumanRights and ...</td>\n",
       "      <td>NOT</td>\n",
       "    </tr>\n",
       "  </tbody>\n",
       "</table>\n",
       "<p>13240 rows × 2 columns</p>\n",
       "</div>"
      ],
      "text/plain": [
       "                                                   tweet    a\n",
       "0      @USER She should ask a few native Americans wh...  OFF\n",
       "1      @USER @USER Go home you’re drunk!!! @USER #MAG...  OFF\n",
       "2      Amazon is investigating Chinese employees who ...  NOT\n",
       "3      @USER Someone should'veTaken\" this piece of sh...  OFF\n",
       "4      @USER @USER Obama wanted liberals &amp; illega...  NOT\n",
       "...                                                  ...  ...\n",
       "13235  @USER Sometimes I get strong vibes from people...  OFF\n",
       "13236  Benidorm ✅  Creamfields ✅  Maga ✅   Not too sh...  NOT\n",
       "13237  @USER And why report this garbage.  We don't g...  OFF\n",
       "13238                                        @USER Pussy  OFF\n",
       "13239  #Spanishrevenge vs. #justice #HumanRights and ...  NOT\n",
       "\n",
       "[13240 rows x 2 columns]"
      ]
     },
     "execution_count": 7,
     "metadata": {},
     "output_type": "execute_result"
    }
   ],
   "source": [
    "data.rename(columns={\"subtask_a\":'a',\"subtask_b\":'b',\"subtask_c\":'c'},inplace=True)\n",
    "data=data.iloc[:,1:3]\n",
    "data\n"
   ]
  },
  {
   "cell_type": "code",
   "execution_count": 8,
   "metadata": {},
   "outputs": [
    {
     "data": {
      "text/html": [
       "<div>\n",
       "<style scoped>\n",
       "    .dataframe tbody tr th:only-of-type {\n",
       "        vertical-align: middle;\n",
       "    }\n",
       "\n",
       "    .dataframe tbody tr th {\n",
       "        vertical-align: top;\n",
       "    }\n",
       "\n",
       "    .dataframe thead th {\n",
       "        text-align: right;\n",
       "    }\n",
       "</style>\n",
       "<table border=\"1\" class=\"dataframe\">\n",
       "  <thead>\n",
       "    <tr style=\"text-align: right;\">\n",
       "      <th></th>\n",
       "      <th>tweet</th>\n",
       "      <th>a</th>\n",
       "    </tr>\n",
       "  </thead>\n",
       "  <tbody>\n",
       "    <tr>\n",
       "      <th>0</th>\n",
       "      <td>she should ask a few native americans what the...</td>\n",
       "      <td>1</td>\n",
       "    </tr>\n",
       "    <tr>\n",
       "      <th>1</th>\n",
       "      <td>go home youre drunk maga trump  url</td>\n",
       "      <td>1</td>\n",
       "    </tr>\n",
       "    <tr>\n",
       "      <th>2</th>\n",
       "      <td>amazon is investigating chinese employees who ...</td>\n",
       "      <td>0</td>\n",
       "    </tr>\n",
       "    <tr>\n",
       "      <th>3</th>\n",
       "      <td>someone shouldvetaken this piece of shit to a ...</td>\n",
       "      <td>1</td>\n",
       "    </tr>\n",
       "    <tr>\n",
       "      <th>4</th>\n",
       "      <td>obama wanted liberals amp illegals to move int...</td>\n",
       "      <td>0</td>\n",
       "    </tr>\n",
       "    <tr>\n",
       "      <th>...</th>\n",
       "      <td>...</td>\n",
       "      <td>...</td>\n",
       "    </tr>\n",
       "    <tr>\n",
       "      <th>13235</th>\n",
       "      <td>sometimes i get strong vibes from people and t...</td>\n",
       "      <td>1</td>\n",
       "    </tr>\n",
       "    <tr>\n",
       "      <th>13236</th>\n",
       "      <td>benidorm   creamfields   maga    not too shabb...</td>\n",
       "      <td>0</td>\n",
       "    </tr>\n",
       "    <tr>\n",
       "      <th>13237</th>\n",
       "      <td>and why report this garbage  we dont give a crap</td>\n",
       "      <td>1</td>\n",
       "    </tr>\n",
       "    <tr>\n",
       "      <th>13238</th>\n",
       "      <td>pussy</td>\n",
       "      <td>1</td>\n",
       "    </tr>\n",
       "    <tr>\n",
       "      <th>13239</th>\n",
       "      <td>spanishrevenge vs justice humanrights and free...</td>\n",
       "      <td>0</td>\n",
       "    </tr>\n",
       "  </tbody>\n",
       "</table>\n",
       "<p>13240 rows × 2 columns</p>\n",
       "</div>"
      ],
      "text/plain": [
       "                                                   tweet  a\n",
       "0      she should ask a few native americans what the...  1\n",
       "1                    go home youre drunk maga trump  url  1\n",
       "2      amazon is investigating chinese employees who ...  0\n",
       "3      someone shouldvetaken this piece of shit to a ...  1\n",
       "4      obama wanted liberals amp illegals to move int...  0\n",
       "...                                                  ... ..\n",
       "13235  sometimes i get strong vibes from people and t...  1\n",
       "13236  benidorm   creamfields   maga    not too shabb...  0\n",
       "13237   and why report this garbage  we dont give a crap  1\n",
       "13238                                              pussy  1\n",
       "13239  spanishrevenge vs justice humanrights and free...  0\n",
       "\n",
       "[13240 rows x 2 columns]"
      ]
     },
     "execution_count": 8,
     "metadata": {},
     "output_type": "execute_result"
    }
   ],
   "source": [
    "\n",
    "pr_data = data.applymap(lambda q: replace_map.get(q) if q in replace_map else q)\n",
    "pr_data=pr_data.iloc[:,0:3]\n",
    "pr_data['tweet'] = pr_data['tweet'].str.replace('@USER ', '')\n",
    "pr_data['tweet'] = pr_data['tweet'].str.replace(' url ', '')\n",
    "pr_data['tweet'] = pr_data['tweet'].str.replace('#', '')\n",
    "pr_data['tweet'] = pr_data['tweet'].str.lower()\n",
    "pr_data['tweet'] = pr_data['tweet'].str.replace('http\\S+|www.\\S+', '', case=False)\n",
    "pr_data['tweet'] = pr_data['tweet'].str.replace(emoji_pattern, '')\n",
    "pr_data['tweet'] = pr_data['tweet'].str.replace('\\d+', '') #remueve numeros\n",
    "pr_data['tweet'] = pr_data['tweet'].str.replace(r'[^\\w\\s]+', '')\n",
    "pr_data"
   ]
  },
  {
   "cell_type": "code",
   "execution_count": 9,
   "metadata": {},
   "outputs": [
    {
     "data": {
      "image/png": "[encoded data removed]",
      "text/plain": [
       "<Figure size 432x288 with 1 Axes>"
      ]
     },
     "execution_count": 9,
     "metadata": {
      "image/png": {
       "height": 248,
       "width": 395
      }
     },
     "output_type": "execute_result"
    }
   ],
   "source": [
    "countData=[9083,4477]\n",
    "labels=[\"no ofensivo\",\"ofensivo\"]\n",
    "y_pos = np.arange(len(labels))\n",
    "plt.pyplot.bar(y_pos, countData, align='center', alpha=0.5)\n",
    "plt.pyplot.xticks(y_pos, labels)\n",
    "plt.pyplot.ylabel('Num de etiquetas')\n",
    "\n",
    "plt.pyplot.show()"
   ]
  },
  {
   "cell_type": "code",
   "execution_count": 10,
   "metadata": {},
   "outputs": [
    {
     "data": {
      "text/html": [
       "<div>\n",
       "<style scoped>\n",
       "    .dataframe tbody tr th:only-of-type {\n",
       "        vertical-align: middle;\n",
       "    }\n",
       "\n",
       "    .dataframe tbody tr th {\n",
       "        vertical-align: top;\n",
       "    }\n",
       "\n",
       "    .dataframe thead th {\n",
       "        text-align: right;\n",
       "    }\n",
       "</style>\n",
       "<table border=\"1\" class=\"dataframe\">\n",
       "  <thead>\n",
       "    <tr style=\"text-align: right;\">\n",
       "      <th></th>\n",
       "      <th>tweet</th>\n",
       "      <th>a</th>\n",
       "    </tr>\n",
       "  </thead>\n",
       "  <tbody>\n",
       "    <tr>\n",
       "      <th>0</th>\n",
       "      <td>she should ask a few native americans what the...</td>\n",
       "      <td>1</td>\n",
       "    </tr>\n",
       "    <tr>\n",
       "      <th>1</th>\n",
       "      <td>go home youre drunk maga trump  url</td>\n",
       "      <td>1</td>\n",
       "    </tr>\n",
       "    <tr>\n",
       "      <th>2</th>\n",
       "      <td>amazon is investigating chinese employees who ...</td>\n",
       "      <td>0</td>\n",
       "    </tr>\n",
       "    <tr>\n",
       "      <th>3</th>\n",
       "      <td>someone shouldvetaken this piece of shit to a ...</td>\n",
       "      <td>1</td>\n",
       "    </tr>\n",
       "    <tr>\n",
       "      <th>4</th>\n",
       "      <td>obama wanted liberals amp illegals to move int...</td>\n",
       "      <td>0</td>\n",
       "    </tr>\n",
       "    <tr>\n",
       "      <th>...</th>\n",
       "      <td>...</td>\n",
       "      <td>...</td>\n",
       "    </tr>\n",
       "    <tr>\n",
       "      <th>13555</th>\n",
       "      <td>providence socaltheist takethatepi rosarubicon...</td>\n",
       "      <td>0</td>\n",
       "    </tr>\n",
       "    <tr>\n",
       "      <th>13556</th>\n",
       "      <td>gun control support fades three months after f...</td>\n",
       "      <td>0</td>\n",
       "    </tr>\n",
       "    <tr>\n",
       "      <th>13557</th>\n",
       "      <td>the hardest day to save is today so if it is i...</td>\n",
       "      <td>0</td>\n",
       "    </tr>\n",
       "    <tr>\n",
       "      <th>13558</th>\n",
       "      <td>rest well christian the fact that you died is ...</td>\n",
       "      <td>0</td>\n",
       "    </tr>\n",
       "    <tr>\n",
       "      <th>13559</th>\n",
       "      <td>hahaha what so does that mean the wwe supersta...</td>\n",
       "      <td>1</td>\n",
       "    </tr>\n",
       "  </tbody>\n",
       "</table>\n",
       "<p>13560 rows × 2 columns</p>\n",
       "</div>"
      ],
      "text/plain": [
       "                                                   tweet  a\n",
       "0      she should ask a few native americans what the...  1\n",
       "1                    go home youre drunk maga trump  url  1\n",
       "2      amazon is investigating chinese employees who ...  0\n",
       "3      someone shouldvetaken this piece of shit to a ...  1\n",
       "4      obama wanted liberals amp illegals to move int...  0\n",
       "...                                                  ... ..\n",
       "13555  providence socaltheist takethatepi rosarubicon...  0\n",
       "13556  gun control support fades three months after f...  0\n",
       "13557  the hardest day to save is today so if it is i...  0\n",
       "13558  rest well christian the fact that you died is ...  0\n",
       "13559  hahaha what so does that mean the wwe supersta...  1\n",
       "\n",
       "[13560 rows x 2 columns]"
      ]
     },
     "execution_count": 10,
     "metadata": {},
     "output_type": "execute_result"
    }
   ],
   "source": [
    "bigdata = pr_data.append(pr_trial, ignore_index=True)\n",
    "bigdata"
   ]
  },
  {
   "cell_type": "code",
   "execution_count": 11,
   "metadata": {},
   "outputs": [
    {
     "data": {
      "text/plain": [
       "0    0.669838\n",
       "1    0.330162\n",
       "Name: a, dtype: float64"
      ]
     },
     "execution_count": 11,
     "metadata": {},
     "output_type": "execute_result"
    }
   ],
   "source": [
    "bigdata['a'].value_counts(normalize=True)"
   ]
  },
  {
   "cell_type": "code",
   "execution_count": 12,
   "metadata": {},
   "outputs": [
    {
     "name": "stdout",
     "output_type": "stream",
     "text": [
      "(11526, 8489) (11526,) (2034, 8489) (2034,) (13560, 8489)\n"
     ]
    }
   ],
   "source": [
    "vectorizer = CountVectorizer(stop_words='english', min_df=0.0001)\n",
    "\n",
    "text=bigdata['tweet'].astype(str)\n",
    "\n",
    "textraining=vectorizer.fit_transform(text)\n",
    "x1,x2,y1,y2 =train_test_split(textraining, bigdata['a'], random_state=0, train_size =0.85)\n",
    "\n",
    "ytraining = y1\n",
    "xtraining = x1\n",
    "\n",
    "ytest=y2\n",
    "xtest=x2\n",
    "\n",
    "print(xtraining.shape,ytraining.shape,xtest.shape,ytest.shape,textraining.shape)"
   ]
  },
  {
   "cell_type": "code",
   "execution_count": 15,
   "metadata": {},
   "outputs": [
    {
     "name": "stdout",
     "output_type": "stream",
     "text": [
      "              precision    recall  f1-score   support\n",
      "\n",
      "    ofensivo     0.7607    0.9438    0.8424      1388\n",
      " no ofensivo     0.7500    0.3622    0.4885       646\n",
      "\n",
      "    accuracy                         0.7591      2034\n",
      "   macro avg     0.7554    0.6530    0.6655      2034\n",
      "weighted avg     0.7573    0.7591    0.7300      2034\n",
      "\n"
     ]
    }
   ],
   "source": [
    "model = LinearSVC(class_weight=\"balanced\", dual=False, tol=1e-2, max_iter=1e5)\n",
    "cclf = CalibratedClassifierCV(base_estimator=model,cv=5)\n",
    "cclf.fit(xtraining,ytraining)\n",
    "\n",
    "ytestpredicted=cclf.predict(xtest)\n",
    "#print(\"puntaje de precision :\", accuracy_score(ytest, ytestpredicted))\n",
    "print(classification_report(ytest, ytestpredicted, target_names=['ofensivo','no ofensivo'], sample_weight=None, digits=4))\n",
    "#joblib.dump(vectorizer, 'vectorizer.joblib')\n",
    "#joblib.dump(cclf, 'model.joblib')\n"
   ]
  },
  {
   "cell_type": "code",
   "execution_count": 14,
   "metadata": {},
   "outputs": [
    {
     "name": "stdout",
     "output_type": "stream",
     "text": [
      "  (0, 2702)\t1\n",
      "  (0, 6889)\t1\n",
      "  (0, 6460)\t1\n",
      "  (0, 779)\t1\n",
      "  (0, 2194)\t1\n",
      "  (1, 4285)\t1\n",
      "  (1, 7667)\t1\n",
      "  (2, 4083)\t1\n",
      "  (2, 4377)\t1\n",
      "  (2, 311)\t1\n",
      "  (2, 1983)\t1\n",
      "  (2, 6987)\t1\n",
      "  (3, 8010)\t1\n",
      "  (3, 4350)\t1\n",
      "  (3, 7148)\t1\n",
      "  (4, 4083)\t1\n",
      "  (4, 3038)\t1\n",
      "  (4, 7827)\t1\n",
      "  (4, 3319)\t1\n",
      "  (4, 3687)\t1\n",
      "  (5, 311)\t1\n",
      "  (5, 8283)\t1\n",
      "  (5, 4675)\t1\n",
      "  (5, 7365)\t1\n",
      "  (6, 4350)\t1\n",
      "  :\t:\n",
      "  (2031, 704)\t1\n",
      "  (2031, 248)\t1\n",
      "  (2031, 7398)\t1\n",
      "  (2032, 8010)\t1\n",
      "  (2032, 3304)\t2\n",
      "  (2032, 1619)\t2\n",
      "  (2032, 5002)\t1\n",
      "  (2032, 1074)\t1\n",
      "  (2032, 4681)\t1\n",
      "  (2032, 3744)\t1\n",
      "  (2032, 1753)\t1\n",
      "  (2032, 4245)\t1\n",
      "  (2032, 3209)\t1\n",
      "  (2032, 2415)\t1\n",
      "  (2032, 1215)\t1\n",
      "  (2032, 2059)\t1\n",
      "  (2032, 1750)\t1\n",
      "  (2032, 1454)\t1\n",
      "  (2032, 513)\t1\n",
      "  (2032, 1072)\t2\n",
      "  (2032, 1911)\t1\n",
      "  (2032, 2196)\t1\n",
      "  (2032, 6143)\t1\n",
      "  (2033, 8010)\t1\n",
      "  (2033, 5682)\t1\n"
     ]
    }
   ],
   "source": [
    "\n",
    "print(xtest)\n"
   ]
  },
  {
   "cell_type": "code",
   "execution_count": 0,
   "metadata": {},
   "outputs": [],
   "source": []
  },
  {
   "cell_type": "code",
   "execution_count": 0,
   "metadata": {},
   "outputs": [],
   "source": []
  },
  {
   "cell_type": "code",
   "execution_count": 0,
   "metadata": {},
   "outputs": [],
   "source": []
  },
  {
   "cell_type": "code",
   "execution_count": 0,
   "metadata": {},
   "outputs": [],
   "source": []
  },
  {
   "cell_type": "code",
   "execution_count": 0,
   "metadata": {},
   "outputs": [],
   "source": []
  },
  {
   "cell_type": "code",
   "execution_count": 0,
   "metadata": {},
   "outputs": [],
   "source": []
  },
  {
   "cell_type": "code",
   "execution_count": 0,
   "metadata": {},
   "outputs": [],
   "source": []
  },
  {
   "cell_type": "code",
   "execution_count": 0,
   "metadata": {},
   "outputs": [],
   "source": []
  },
  {
   "cell_type": "code",
   "execution_count": 0,
   "metadata": {},
   "outputs": [],
   "source": []
  },
  {
   "cell_type": "code",
   "execution_count": 0,
   "metadata": {},
   "outputs": [],
   "source": []
  }
 ],
 "metadata": {
  "kernelspec": {
   "display_name": "Python 3",
   "language": "python",
   "name": "python3"
  },
  "language_info": {
   "codemirror_mode": {
    "name": "ipython",
    "version": 3
   },
   "file_extension": ".py",
   "mimetype": "text/x-python",
   "name": "python",
   "nbconvert_exporter": "python",
   "pygments_lexer": "ipython3",
   "version": "3.7.2"
  }
 },
 "nbformat": 4,
 "nbformat_minor": 1
}
